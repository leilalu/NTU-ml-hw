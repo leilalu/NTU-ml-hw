{
 "cells": [
  {
   "cell_type": "code",
   "execution_count": 1,
   "metadata": {},
   "outputs": [],
   "source": [
    "import csv, os\n",
    "import numpy as np\n",
    "import pandas as pd\n",
    "import matplotlib.pyplot as plt"
   ]
  },
  {
   "cell_type": "code",
   "execution_count": 2,
   "metadata": {},
   "outputs": [],
   "source": [
    "def makeDataProcessing(dfData):\n",
    "    \"\"\"\n",
    "    该函数是为了将数据集中的object类型数据转变为one-hot向量\n",
    "    \"\"\"\n",
    "    dfDataX = dfData.drop([\"education_num\", \"sex\"], axis=1)\n",
    "    \n",
    "    listObjectColumnName = [col for col in dfDataX.columns if dfDataX[col].dtypes == \"object\"]\n",
    "    listNonObjectColumnName = [col for col in dfDataX.columns if dfDataX[col].dtypes != \"object\"]\n",
    "    \n",
    "    dfNonObjectData = dfDataX[listNonObjectColumnName]\n",
    "    dfNonObjectData.insert(2, \"sex\", (dfData[\"sex\"]==\"Male\").astype(np.int))   # Male 1 Female 0\n",
    "    \n",
    "    dfObjectData = dfDataX[listObjectColumnName]\n",
    "    dfObjectData = pd.get_dummies(dfObjectData)  # 对Object类型的数据进行one-hot编码\n",
    "    \n",
    "    dfDataX = dfNonObjectData.join(dfObjectData)\n",
    "    dfDataX = dfDataX.astype(\"int64\")\n",
    "    \n",
    "    return dfDataX\n",
    "    "
   ]
  },
  {
   "cell_type": "code",
   "execution_count": 3,
   "metadata": {},
   "outputs": [],
   "source": [
    "    # read raw data\n",
    "    dfDataTrain = pd.read_csv(os.path.join(os.path.dirname(\"__file__\"), \"data_02/train.csv\"))\n",
    "    dfDataTest = pd.read_csv(os.path.join(os.path.dirname(\"__file__\"), \"data_02/test.csv\"))\n",
    "    \n",
    "    # show Training Size and Testing Size\n",
    "    intTrainSize = len(dfDataTrain)\n",
    "    intTestSize = len(dfDataTest)\n",
    "    \n",
    "    # processing Train Label (Y)\n",
    "    dfDataTrainY = dfDataTrain[\"income\"]\n",
    "    dfTrainY = pd.DataFrame((dfDataTrainY==\">50k\").astype(\"int64\"), columns=[\"income\"])  # >50k 1 =<50k 0\n",
    "    \n",
    "    # processing Training and Testing data  (X)\n",
    "    dfDataTrain = dfDataTrain.drop([\"income\"], axis=1)\n",
    "    dfAllData = pd.concat([dfDataTrain, dfDataTest], axis = 0, ignore_index=True)\n",
    "    dfAllData = makeDataProcessing(dfData=dfAllData)\n",
    "    \n",
    "    # seperate All Data to Training and Testing\n",
    "    dfTrainX = dfAllData[0:intTrainSize]\n",
    "    dfTestX = dfAllData[intTrainSize : (intTrainSize + intTestSize)]\n",
    "    \n",
    "    # save Training data , Testing data and Training label\n",
    "    dfTrainX.to_csv(os.path.join(os.path.dirname(\"__file__\"), \"data_02/X_train_my.csv\"), index=False)\n",
    "    dfTestX.to_csv(os.path.join(os.path.dirname(\"__file__\"), \"data_02/X_test_my.csv\"), index=False)\n",
    "    dfTrainY.to_csv(os.path.join(os.path.dirname(\"__file__\"), \"data_02/Y_train_my.csv\"), index=False)\n",
    "                        "
   ]
  },
  {
   "cell_type": "code",
   "execution_count": 4,
   "metadata": {},
   "outputs": [],
   "source": [
    "def getShuffleData(arrayX, arrayY):\n",
    "    arrayRandomIndex = np.arange(len(arrayX))\n",
    "    np.random.shuffle(arrayRandomIndex)\n",
    "    return arrayX[arrayRandomIndex], arrayY[arrayRandomIndex]"
   ]
  },
  {
   "cell_type": "code",
   "execution_count": 5,
   "metadata": {},
   "outputs": [],
   "source": [
    "def getNormalizeData(arrayTrainX, arrayTestX):\n",
    "    arrayX = np.concatenate((arrayTrainX, arrayTestX))\n",
    "    \n",
    "    arrayMuX = np.mean(arrayX, axis=0)\n",
    "    arraySigmaX = np.std(arrayX, axis=0)\n",
    "    \n",
    "    arrayNormalizeX = (arrayX - arrayMuX) / arraySigmaX\n",
    "    \n",
    "    arrayNormalizeTrainX, arrayNormalizeTestX = arrayNormalizeX[0:arrayTrainX.shape[0]], arrayNormalizeX[arrayTrainX.shape[0]:]\n",
    "    \n",
    "    return arrayNormalizeTrainX, arrayNormalizeTestX"
   ]
  },
  {
   "cell_type": "code",
   "execution_count": 6,
   "metadata": {},
   "outputs": [],
   "source": [
    "def getTrainAndValidData(arrayTrainAllX, arrayTrainAllY, percentage):\n",
    "    intInputDataSize = len(arrayTrainAllX)\n",
    "    intValidDataSize = int(np.floor(intInputDataSize * percentage))\n",
    "    \n",
    "    arrayTrainAllX, arrayTrainAllY = getShuffleData(arrayTrainAllX, arrayTrainAllY)\n",
    "    \n",
    "    arrayValidX = arrayTrainAllX[0:intValidDataSize]\n",
    "    arrayTrainX = arrayTrainAllX[intValidDataSize:]\n",
    "    \n",
    "    arrayValidY = arrayTrainAllY[0:intValidDataSize]\n",
    "    arrayTrainY = arrayTrainAllY[intValidDataSize:]\n",
    "    \n",
    "    return arrayTrainX, arrayTrainY, arrayValidX, arrayValidY"
   ]
  },
  {
   "cell_type": "code",
   "execution_count": 7,
   "metadata": {},
   "outputs": [],
   "source": [
    "def getLinear(arrayX, arrayW, arrayB):\n",
    "    X = np.dot(arrayX, arrayW) + arrayB\n",
    "    return X"
   ]
  },
  {
   "cell_type": "code",
   "execution_count": 8,
   "metadata": {},
   "outputs": [],
   "source": [
    "def getSigmoidValue(z):\n",
    "    s = 1 / (1.0 + np.exp(-z))\n",
    "    return np.clip(s, 1e-8, 1-(1e-8))"
   ]
  },
  {
   "cell_type": "code",
   "execution_count": 9,
   "metadata": {},
   "outputs": [],
   "source": [
    "def getCrossEntropyValue(s, Y):\n",
    "    arrayCrossEntropy = -1 * (np.dot(np.transpose(Y), np.log(s)) + np.dot((1-np.transpose(Y)), np.log(1-s))) / len(Y)\n",
    "    return arrayCrossEntropy"
   ]
  },
  {
   "cell_type": "code",
   "execution_count": 10,
   "metadata": {},
   "outputs": [],
   "source": [
    "def makePredict(s):\n",
    "    pre = np.around(s)\n",
    "    return pre"
   ]
  },
  {
   "cell_type": "code",
   "execution_count": 11,
   "metadata": {},
   "outputs": [],
   "source": [
    "def computeAccuracy(Predict, Y):\n",
    "    result = (Predict == np.squeeze(Y))\n",
    "    Accuracy = sum(result) / len(Y)\n",
    "    return Accuracy"
   ]
  },
  {
   "cell_type": "code",
   "execution_count": 12,
   "metadata": {},
   "outputs": [],
   "source": [
    "def trainMBGD(arrayTrainX, arrayTrainY, intBatchSize, intEpochSize, floatLearnRate):\n",
    "    arrayW = np.zeros((arrayTrainX.shape[1])) #(106, )\n",
    "    arrayB = np.zeros(1) # (1,)\n",
    "    \n",
    "    arrayTotalLoss = 0.0\n",
    "    listTrainCost = []\n",
    "    listValidAccuracy = []\n",
    "    listValidCost = []\n",
    "    for epoch in range(intEpochSize):\n",
    "        \n",
    "        if epoch > 0:\n",
    "            # train cost\n",
    "            arrayTrainCost = arrayTotalLoss / (len(arrayTrainX))\n",
    "            listTrainCost.append(arrayTrainCost)\n",
    "            print(\"Epoch:{}, Epoch average loss :{}\".format(epoch, arrayTrainCost))\n",
    "            \n",
    "            # valid cost\n",
    "            z = getLinear(arrayValidX, arrayW, arrayB)\n",
    "            s = getSigmoidValue(z)\n",
    "            arrayPredict = makePredict(s)\n",
    "            arrayValidCrossEntropy = getCrossEntropyValue(s, arrayValidY)\n",
    "            listValidCost.append(arrayValidCrossEntropy)\n",
    "            \n",
    "            # valid accuracy\n",
    "            arrayValidAccuracy = computeAccuracy(arrayPredict, arrayValidY)\n",
    "            listValidAccuracy.append(arrayValidAccuracy)\n",
    "            print(\"Validation Accuracy:{}\".format(arrayValidAccuracy))\n",
    "            \n",
    "            arrayTotalLoss = 0.0\n",
    "            \n",
    "        arrayTrainX, arrayTrainY = getShuffleData(arrayX = arrayTrainX, arrayY = arrayTrainY)\n",
    "        \n",
    "        for batch_iter in range(int(len(arrayTrainX) / intBatchSize)):\n",
    "            X = arrayTrainX[intBatchSize*batch_iter: intBatchSize*(batch_iter +1)] #(intBatchSize, 106)\n",
    "            Y = arrayTrainY[intBatchSize*batch_iter: intBatchSize*(batch_iter +1)] #(intBatchSize, 1)\n",
    "            \n",
    "            z = getLinear(X, arrayW, arrayB)\n",
    "            \n",
    "            s = getSigmoidValue(z)\n",
    "            \n",
    "            arrayCrossEntropy = getCrossEntropyValue(s, Y) * len(Y)\n",
    "            arrayTotalLoss += arrayCrossEntropy\n",
    "            \n",
    "            arrayGradientW = -1 * np.dot(np.transpose(X), (np.squeeze(Y) - s).reshape((intBatchSize, 1)))\n",
    "            arrayGradientB = np.mean(-1 * (np.squeeze(Y) - s))\n",
    "            \n",
    "            arrayW -= floatLearnRate * np.squeeze(arrayGradientW)\n",
    "            arrayB  -= floatLearnRate * arrayGradientB\n",
    "            \n",
    "        plt.plot(np.arange(len(listValidCost)), listValidCost, \"r--\", label=\"Valid Cost\")\n",
    "        plt.plot(np.arange(len(listTrainCost)), listTrainCost, \"b--\", label=\"Train Cost\")\n",
    "        plt.title(\"Train Process\")\n",
    "        plt.xlabel(\"Iteration\")\n",
    "        plt.ylabel(\"Cost Function(Cross Entropy)\")\n",
    "        plt.legend()\n",
    "        plt.savefig(os.path.join(os.path.dirname(\"__file__\"), \"output_02/TrainProcess\"))\n",
    "        plt.show()\n",
    "        \n",
    "        return arrayW, arrayB\n",
    "            "
   ]
  },
  {
   "cell_type": "code",
   "execution_count": 13,
   "metadata": {},
   "outputs": [
    {
     "name": "stderr",
     "output_type": "stream",
     "text": [
      "/Users/changchang/ml/env/lib/python3.7/site-packages/ipykernel_launcher.py:7: RuntimeWarning: invalid value encountered in true_divide\n",
      "  import sys\n"
     ]
    },
    {
     "data": {
      "image/png": "[encoded data removed]",
      "text/plain": [
       "<Figure size 432x288 with 1 Axes>"
      ]
     },
     "metadata": {
      "needs_background": "light"
     },
     "output_type": "display_data"
    },
    {
     "name": "stdout",
     "output_type": "stream",
     "text": [
      "Testing Accuracy:0.0 \n"
     ]
    }
   ],
   "source": [
    "# read Training data, Training label, Testing data\n",
    "dfTrainX = pd.read_csv(os.path.join(os.path.dirname(\"__file__\"), \"data_02/X_train_my.csv\"))\n",
    "dfTrainY = pd.read_csv(os.path.join(os.path.dirname(\"__file__\"), \"data_02/Y_train_my.csv\"))\n",
    "dfTestX = pd.read_csv(os.path.join(os.path.dirname(\"__file__\"), \"data_02/X_test_my.csv\"))\n",
    "\n",
    "# transform the data to array\n",
    "arrayTrainX = np.array(dfTrainX.values) # (32561, 106)\n",
    "arrayTestX = np.array(dfTestX.values) # (16281, 106)\n",
    "arrayTrainY = np.array(dfTrainY.values) #(32561)\n",
    "\n",
    "# normalize the Training and Testing data\n",
    "arrayNormalizeTrainX, arrayNormalizeTestX = getNormalizeData(arrayTrainX, arrayTestX)\n",
    "\n",
    "# shuffling data index\n",
    "arrayTrainAllX, arrayTrainAllY = getShuffleData(arrayNormalizeTrainX, arrayTrainY)\n",
    "\n",
    "# take some training data to be validation data\n",
    "arrayTrainX, arrayTrainY, arrayValidX, arrayValidY = getTrainAndValidData(arrayTrainAllX, arrayTrainAllY, 0.2)\n",
    "\n",
    "# Train\n",
    "arrayW, arrayB = trainMBGD(arrayTrainX, arrayTrainY, intBatchSize = 32, intEpochSize = 300, floatLearnRate=0.001)\n",
    "\n",
    "# Test\n",
    "ans = pd.read_csv(os.path.join(os.path.dirname(\"__file__\"), \"output_02/correct_answer.csv\"))\n",
    "arrayTestZ = getLinear(arrayNormalizeTestX, arrayW, arrayB)\n",
    "# Testz = (np.dot(arrayNormalizeTestX, arrayW) + arrayB)\n",
    "arrayPredict = makePredict(getSigmoidValue(arrayTestZ))\n",
    "\n",
    "dictD = {\"Predict\":arrayPredict, \"Target\":ans[\"label\"]}\n",
    "pdResult = pd.DataFrame(dictD, columns=dictD.keys())\n",
    "pdResult.to_csv(os.path.join(os.path.dirname(\"__file__\"), \"output_02/Predict\"))\n",
    "# print(pdResult)\n",
    "\n",
    "result = computeAccuracy(arrayPredict, np.squeeze(ans[\"label\"]))\n",
    "print(\"Testing Accuracy:{} \".format(result))"
   ]
  },
  {
   "cell_type": "code",
   "execution_count": null,
   "metadata": {},
   "outputs": [],
   "source": []
  }
 ],
 "metadata": {
  "kernelspec": {
   "display_name": "Python 3",
   "language": "python",
   "name": "python3"
  },
  "language_info": {
   "codemirror_mode": {
    "name": "ipython",
    "version": 3
   },
   "file_extension": ".py",
   "mimetype": "text/x-python",
   "name": "python",
   "nbconvert_exporter": "python",
   "pygments_lexer": "ipython3",
   "version": "3.7.4"
  }
 },
 "nbformat": 4,
 "nbformat_minor": 2
}
